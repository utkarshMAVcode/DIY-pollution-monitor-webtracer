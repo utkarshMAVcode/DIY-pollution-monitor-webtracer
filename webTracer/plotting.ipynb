{
 "cells": [
  {
   "cell_type": "code",
   "execution_count": 1,
   "metadata": {},
   "outputs": [],
   "source": [
    "import pandas as pd\n",
    "import matplotlib.pyplot as plt"
   ]
  },
  {
   "cell_type": "code",
   "execution_count": 2,
   "metadata": {},
   "outputs": [],
   "source": [
    "df = pd.read_csv(\"D:\\Code\\_Code\\Python Code\\EPICS\\Analysis\\Sensor_Readings.csv\")"
   ]
  },
  {
   "cell_type": "code",
   "execution_count": 3,
   "metadata": {},
   "outputs": [
    {
     "data": {
      "text/html": [
       "<div>\n",
       "<style scoped>\n",
       "    .dataframe tbody tr th:only-of-type {\n",
       "        vertical-align: middle;\n",
       "    }\n",
       "\n",
       "    .dataframe tbody tr th {\n",
       "        vertical-align: top;\n",
       "    }\n",
       "\n",
       "    .dataframe thead th {\n",
       "        text-align: right;\n",
       "    }\n",
       "</style>\n",
       "<table border=\"1\" class=\"dataframe\">\n",
       "  <thead>\n",
       "    <tr style=\"text-align: right;\">\n",
       "      <th></th>\n",
       "      <th>Temperature</th>\n",
       "      <th>Humidity</th>\n",
       "      <th>Gas1</th>\n",
       "      <th>Gas2</th>\n",
       "      <th>Date</th>\n",
       "    </tr>\n",
       "  </thead>\n",
       "  <tbody>\n",
       "    <tr>\n",
       "      <th>0</th>\n",
       "      <td>34.0°C</td>\n",
       "      <td>31.0%</td>\n",
       "      <td>084 ppm</td>\n",
       "      <td>377 ppm</td>\n",
       "      <td>2023-05-18</td>\n",
       "    </tr>\n",
       "    <tr>\n",
       "      <th>1</th>\n",
       "      <td>34.0°C</td>\n",
       "      <td>31.0%</td>\n",
       "      <td>344 ppm</td>\n",
       "      <td>349 ppm</td>\n",
       "      <td>2023-05-18</td>\n",
       "    </tr>\n",
       "    <tr>\n",
       "      <th>2</th>\n",
       "      <td>34.0°C</td>\n",
       "      <td>31.0%</td>\n",
       "      <td>344 ppm</td>\n",
       "      <td>349 ppm</td>\n",
       "      <td>2023-05-18</td>\n",
       "    </tr>\n",
       "  </tbody>\n",
       "</table>\n",
       "</div>"
      ],
      "text/plain": [
       "  Temperature Humidity     Gas1     Gas2        Date\n",
       "0      34.0°C    31.0%  084 ppm  377 ppm  2023-05-18\n",
       "1      34.0°C    31.0%  344 ppm  349 ppm  2023-05-18\n",
       "2      34.0°C    31.0%  344 ppm  349 ppm  2023-05-18"
      ]
     },
     "execution_count": 3,
     "metadata": {},
     "output_type": "execute_result"
    }
   ],
   "source": [
    "df"
   ]
  },
  {
   "cell_type": "code",
   "execution_count": 5,
   "metadata": {},
   "outputs": [],
   "source": [
    "df.drop(df.index , inplace=True)"
   ]
  },
  {
   "cell_type": "code",
   "execution_count": 8,
   "metadata": {},
   "outputs": [
    {
     "data": {
      "image/png": "[encoded data removed]",
      "text/plain": [
       "<Figure size 432x288 with 1 Axes>"
      ]
     },
     "metadata": {
      "needs_background": "light"
     },
     "output_type": "display_data"
    }
   ],
   "source": [
    "temp_list = list(map(lambda x:float(x[0:-2]), df['Temperature']))\n",
    "hum_list = list(map(lambda x:float(x[0:-1]), df['Humidity']))\n",
    "gas1_list = list(map(lambda x:float(x[0:-1]), df['Gas1']))\n",
    "gas2_list = list(map(lambda x:float(x[0:-1]), df['Gas2']))\n",
    "date_list = list(df['Date'])\n",
    "\n",
    "plt.plot(date_list, gas1_list)\n",
    "plt.xlabel(\"Date\")  # add X-axis label\n",
    "plt.ylabel(\"Gas 1\")  # add Y-axis label\n",
    "plt.title(\"Gas 1 Readings\")  # add title\n",
    "plt.axhline(y = 15, color = 'r', linestyle = '-')\n",
    "plt.show()\n",
    "\n",
    "#plt.savefig(\"D:\\Code\\_Code\\Python Code\\EPICS\\Analysis\\\\gas1_plot_test\")"
   ]
  },
  {
   "cell_type": "code",
   "execution_count": 6,
   "metadata": {},
   "outputs": [],
   "source": [
    "new_df = pd.DataFrame()\n",
    "new_df.to_csv(\"D:\\Code\\_Code\\Python Code\\EPICS\\Analysis\\Sensor_Readings.csv\")"
   ]
  },
  {
   "cell_type": "code",
   "execution_count": null,
   "metadata": {},
   "outputs": [],
   "source": []
  }
 ],
 "metadata": {
  "kernelspec": {
   "display_name": "Python 3",
   "language": "python",
   "name": "python3"
  },
  "language_info": {
   "codemirror_mode": {
    "name": "ipython",
    "version": 3
   },
   "file_extension": ".py",
   "mimetype": "text/x-python",
   "name": "python",
   "nbconvert_exporter": "python",
   "pygments_lexer": "ipython3",
   "version": "3.10.5"
  },
  "orig_nbformat": 4
 },
 "nbformat": 4,
 "nbformat_minor": 2
}
