{
 "cells": [
  {
   "cell_type": "code",
   "execution_count": 2,
   "metadata": {},
   "outputs": [
    {
     "name": "stdout",
     "output_type": "stream",
     "text": [
      "Original length: 12\n",
      "AFPi/XpN\n",
      "Encoded Length: 8\n",
      "360290548301\n"
     ]
    }
   ],
   "source": [
    "import base64\n",
    "\n",
    "original_number = 360290548301\n",
    "\n",
    "print(\"Original length: \" + str(len(str(original_number))))\n",
    "\n",
    "binary_data = bin(original_number)[2:].zfill(48)\n",
    "\n",
    "encoded_data = base64.b64encode(int(binary_data, 2).to_bytes(6, 'big')).decode()\n",
    "\n",
    "print(encoded_data)\n",
    "print(\"Encoded Length: \" + str(len(encoded_data)))\n",
    "\n",
    "decoded_data = int.from_bytes(base64.b64decode(encoded_data), 'big')\n",
    "retrieved_number = int(bin(decoded_data)[2:].zfill(48), 2)\n",
    "\n",
    "print(retrieved_number)"
   ]
  },
  {
   "cell_type": "code",
   "execution_count": null,
   "metadata": {},
   "outputs": [],
   "source": []
  }
 ],
 "metadata": {
  "kernelspec": {
   "display_name": "Python 3",
   "language": "python",
   "name": "python3"
  },
  "language_info": {
   "codemirror_mode": {
    "name": "ipython",
    "version": 3
   },
   "file_extension": ".py",
   "mimetype": "text/x-python",
   "name": "python",
   "nbconvert_exporter": "python",
   "pygments_lexer": "ipython3",
   "version": "3.10.5"
  },
  "orig_nbformat": 4
 },
 "nbformat": 4,
 "nbformat_minor": 2
}
